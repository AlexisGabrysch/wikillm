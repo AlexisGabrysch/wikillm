{
 "cells": [
  {
   "cell_type": "code",
   "execution_count": 5,
   "metadata": {},
   "outputs": [],
   "source": [
    "import bs4 as bs\n",
    "import requests"
   ]
  },
  {
   "cell_type": "code",
   "execution_count": 53,
   "metadata": {},
   "outputs": [],
   "source": [
    "base_url = \"https://www.digischool.fr\""
   ]
  },
  {
   "cell_type": "code",
   "execution_count": 1,
   "metadata": {},
   "outputs": [],
   "source": [
    "url = \"https://www.digischool.fr/college/troisieme/histoire-geographie-emc\""
   ]
  },
  {
   "cell_type": "code",
   "execution_count": 2,
   "metadata": {},
   "outputs": [],
   "source": [
    "def get_soup(url):\n",
    "    response = requests.get(url)\n",
    "    soup = bs.BeautifulSoup(response.text, 'html.parser')\n",
    "    return soup"
   ]
  },
  {
   "cell_type": "code",
   "execution_count": 59,
   "metadata": {},
   "outputs": [],
   "source": [
    "def get_links(url):\n",
    "    \n",
    "    soup = get_soup(url)\n",
    "    if soup is None:\n",
    "        print(\"Error: No soup\")\n",
    "    else:\n",
    "        course_links = [\n",
    "        a[\"href\"]\n",
    "        for a in soup.find_all(\"a\", href=True)\n",
    "        if a[\"href\"].startswith(\"/cours/\") and \"quiz\" not in a[\"href\"]\n",
    "    ]\n",
    "    titles = [\n",
    "    p.get_text(strip=True)\n",
    "    for p in soup.find_all(\"p\")\n",
    "    if p.has_attr(\"class\") and any(\"body-s-16-bold\" in cls for cls in p[\"class\"])\n",
    "    ]\n",
    "\n",
    "  \n",
    "    h2s = [\n",
    "    h2.get_text(strip=True)\n",
    "    for h2 in soup.find_all(\"h2\")\n",
    "    if h2.has_attr(\"class\") and any(\"body-s-16-bold\" in cls for cls in h2[\"class\"])\n",
    "    ]\n",
    "   \n",
    "    course_links = [\n",
    "    (title, base_url + link,)\n",
    "    for title, link, h2 in zip(titles, course_links, h2s)\n",
    "    ]\n",
    "        \n",
    "    return course_links\n"
   ]
  },
  {
   "cell_type": "code",
   "execution_count": 60,
   "metadata": {},
   "outputs": [],
   "source": [
    "course_links = get_links(url)"
   ]
  },
  {
   "cell_type": "code",
   "execution_count": 61,
   "metadata": {},
   "outputs": [
    {
     "data": {
      "text/plain": [
       "[('L’expérience combattante pendant la\\xa0Première Guerre mondiale',\n",
       "  'https://www.digischool.fr/cours/l-experience-combattante-pendant-la-premiere-guerre-mondiale?srcpath=%2Cfr%2Csuperbrevet%2Ctroisieme%2Chistoire-geographie-emc%2Ceurope-theatre-majeur-guerres-totales-1914-1945'),\n",
       " ('Les civils dans une guerre totale',\n",
       "  'https://www.digischool.fr/cours/les-civils-dans-une-guerre-totale?srcpath=%2Cfr%2Csuperbrevet%2Ctroisieme%2Chistoire-geographie-emc%2Ceurope-theatre-majeur-guerres-totales-1914-1945'),\n",
       " ('De la révolution bolchevique au\\xa0régime totalitaire stalinien',\n",
       "  'https://www.digischool.fr/cours/de-la-revolution-bolchevique-au-regime-totalitaire-stalinien?srcpath=%2Cfr%2Csuperbrevet%2Ctroisieme%2Chistoire-geographie-emc%2Ceurope-theatre-majeur-guerres-totales-1914-1945'),\n",
       " ('Le régime totalitaire nazi',\n",
       "  'https://www.digischool.fr/cours/le-regime-totalitaire-nazi?srcpath=%2Cfr%2Csuperbrevet%2Ctroisieme%2Chistoire-geographie-emc%2Ceurope-theatre-majeur-guerres-totales-1914-1945'),\n",
       " ('La France entre les deux guerres (1918-1939)',\n",
       "  'https://www.digischool.fr/cours/la-france-entre-les-deux-guerres-1918-1939?srcpath=%2Cfr%2Csuperbrevet%2Ctroisieme%2Chistoire-geographie-emc%2Ceurope-theatre-majeur-guerres-totales-1914-1945'),\n",
       " ('La Seconde Guerre mondiale\\xa0: une\\xa0guerre planétaire (1939-1945)',\n",
       "  'https://www.digischool.fr/cours/la-seconde-guerre-mondiale-une-guerre-planetaire-1939-1945?srcpath=%2Cfr%2Csuperbrevet%2Ctroisieme%2Chistoire-geographie-emc%2Ceurope-theatre-majeur-guerres-totales-1914-1945'),\n",
       " ('La Seconde Guerre mondiale\\xa0: une\\xa0guerre d’anéantissement',\n",
       "  'https://www.digischool.fr/cours/la-seconde-guerre-mondiale-une-guerre-d-aneantissement-2?srcpath=%2Cfr%2Csuperbrevet%2Ctroisieme%2Chistoire-geographie-emc%2Ceurope-theatre-majeur-guerres-totales-1914-1945'),\n",
       " ('Les résistances dans l’Europe sous domination nazie',\n",
       "  'https://www.digischool.fr/cours/les-resistances-dans-l-europe-sous-domination-nazie?srcpath=%2Cfr%2Csuperbrevet%2Ctroisieme%2Chistoire-geographie-emc%2Ceurope-theatre-majeur-guerres-totales-1914-1945'),\n",
       " ('Collaboration et résistance dans\\xa0la\\xa0France occupée (1940-1944)',\n",
       "  'https://www.digischool.fr/cours/collaboration-et-resistance-dans-la-france-occupee-1940-1944?srcpath=%2Cfr%2Csuperbrevet%2Ctroisieme%2Chistoire-geographie-emc%2Ceurope-theatre-majeur-guerres-totales-1914-1945'),\n",
       " ('L’Europe, \\u2028un théâtre majeur des\\xa0guerres totales (1914-1945)',\n",
       "  'https://www.digischool.fr/cours/l-europe-un-theatre-majeur-des-guerres-totales-1914-1945?srcpath=%2Cfr%2Csuperbrevet%2Ctroisieme%2Chistoire-geographie-emc%2Ceurope-theatre-majeur-guerres-totales-1914-1945'),\n",
       " (\"Démocraties fragilisées et expériences totalitaires dans l'Europe de l'entre-deux-guerres\",\n",
       "  'https://www.digischool.fr/cours/democraties-fragilisees-et-experiences-totalitaires-dans-l-europe-de-l-entre-deux-guerres?srcpath=%2Cfr%2Csuperbrevet%2Ctroisieme%2Chistoire-geographie-emc%2Ceurope-theatre-majeur-guerres-totales-1914-1945'),\n",
       " ('Civils et militaires dans la Première guerre mondiale',\n",
       "  'https://www.digischool.fr/cours/civils-et-militaires-dans-la-premiere-guerre-mondiale?srcpath=%2Cfr%2Csuperbrevet%2Ctroisieme%2Chistoire-geographie-emc%2Ceurope-theatre-majeur-guerres-totales-1914-1945')]"
      ]
     },
     "execution_count": 61,
     "metadata": {},
     "output_type": "execute_result"
    }
   ],
   "source": [
    "course_links"
   ]
  },
  {
   "cell_type": "code",
   "execution_count": 20,
   "metadata": {},
   "outputs": [],
   "source": [
    "def get_course(url):\n",
    "    soup = get_soup(url)\n",
    "    if not soup:\n",
    "        print(\"Error: No soup\")\n",
    "        return {}\n",
    "\n",
    "    courses = {}\n",
    "    for a in soup.find_all(\"a\", href=True):\n",
    "        href = a[\"href\"]\n",
    "        if href.startswith(\"/cours/\") and \"quiz\" not in href:\n",
    "            # Récupération du titre contenu dans une balise <p> avec la classe attendue\n",
    "            title_elem = a.find(\"p\", class_=lambda cls: cls and \"body-s-16-bold\" in cls)\n",
    "            title = title_elem.get_text(strip=True) if title_elem else \"\"\n",
    "\n",
    "            # Récupérer l'élément H2 le plus proche en amont avec une classe contenant \"body-s-16-bold\"\n",
    "            h2_elem = a.find_previous(\"h2\", class_=lambda cls: cls and \"body-s-16-bold\" in cls)\n",
    "            category = h2_elem.get_text(strip=True) if h2_elem else \"\"\n",
    "\n",
    "            courses[href] = {\"title\": title, \"category\": category}\n",
    "            # remove duplicate courses\n",
    "            \n",
    "\n",
    "    return courses"
   ]
  },
  {
   "cell_type": "code",
   "execution_count": 21,
   "metadata": {},
   "outputs": [
    {
     "data": {
      "text/plain": [
       "{'/cours/l-experience-combattante-pendant-la-premiere-guerre-mondiale?srcpath=%2Cfr%2Csuperbrevet%2Ctroisieme%2Chistoire-geographie-emc%2Ceurope-theatre-majeur-guerres-totales-1914-1945': {'title': 'L’expérience combattante pendant la\\xa0Première Guerre mondiale',\n",
       "  'category': \"Histoire - L'Europe, un théâtre majeur des guerres totales (1914-1945)\"},\n",
       " '/cours/les-civils-dans-une-guerre-totale?srcpath=%2Cfr%2Csuperbrevet%2Ctroisieme%2Chistoire-geographie-emc%2Ceurope-theatre-majeur-guerres-totales-1914-1945': {'title': 'Les civils dans une guerre totale',\n",
       "  'category': \"Histoire - L'Europe, un théâtre majeur des guerres totales (1914-1945)\"},\n",
       " '/cours/de-la-revolution-bolchevique-au-regime-totalitaire-stalinien?srcpath=%2Cfr%2Csuperbrevet%2Ctroisieme%2Chistoire-geographie-emc%2Ceurope-theatre-majeur-guerres-totales-1914-1945': {'title': 'De la révolution bolchevique au\\xa0régime totalitaire stalinien',\n",
       "  'category': \"Histoire - L'Europe, un théâtre majeur des guerres totales (1914-1945)\"},\n",
       " '/cours/le-regime-totalitaire-nazi?srcpath=%2Cfr%2Csuperbrevet%2Ctroisieme%2Chistoire-geographie-emc%2Ceurope-theatre-majeur-guerres-totales-1914-1945': {'title': 'Le régime totalitaire nazi',\n",
       "  'category': \"Histoire - L'Europe, un théâtre majeur des guerres totales (1914-1945)\"},\n",
       " '/cours/la-france-entre-les-deux-guerres-1918-1939?srcpath=%2Cfr%2Csuperbrevet%2Ctroisieme%2Chistoire-geographie-emc%2Ceurope-theatre-majeur-guerres-totales-1914-1945': {'title': 'La France entre les deux guerres (1918-1939)',\n",
       "  'category': \"Histoire - L'Europe, un théâtre majeur des guerres totales (1914-1945)\"},\n",
       " '/cours/la-seconde-guerre-mondiale-une-guerre-planetaire-1939-1945?srcpath=%2Cfr%2Csuperbrevet%2Ctroisieme%2Chistoire-geographie-emc%2Ceurope-theatre-majeur-guerres-totales-1914-1945': {'title': 'La Seconde Guerre mondiale\\xa0: une\\xa0guerre planétaire (1939-1945)',\n",
       "  'category': \"Histoire - L'Europe, un théâtre majeur des guerres totales (1914-1945)\"},\n",
       " '/cours/la-seconde-guerre-mondiale-une-guerre-d-aneantissement-2?srcpath=%2Cfr%2Csuperbrevet%2Ctroisieme%2Chistoire-geographie-emc%2Ceurope-theatre-majeur-guerres-totales-1914-1945': {'title': 'La Seconde Guerre mondiale\\xa0: une\\xa0guerre d’anéantissement',\n",
       "  'category': \"Histoire - L'Europe, un théâtre majeur des guerres totales (1914-1945)\"},\n",
       " '/cours/les-resistances-dans-l-europe-sous-domination-nazie?srcpath=%2Cfr%2Csuperbrevet%2Ctroisieme%2Chistoire-geographie-emc%2Ceurope-theatre-majeur-guerres-totales-1914-1945': {'title': 'Les résistances dans l’Europe sous domination nazie',\n",
       "  'category': \"Histoire - L'Europe, un théâtre majeur des guerres totales (1914-1945)\"},\n",
       " '/cours/collaboration-et-resistance-dans-la-france-occupee-1940-1944?srcpath=%2Cfr%2Csuperbrevet%2Ctroisieme%2Chistoire-geographie-emc%2Ceurope-theatre-majeur-guerres-totales-1914-1945': {'title': 'Collaboration et résistance dans\\xa0la\\xa0France occupée (1940-1944)',\n",
       "  'category': \"Histoire - L'Europe, un théâtre majeur des guerres totales (1914-1945)\"},\n",
       " '/cours/l-europe-un-theatre-majeur-des-guerres-totales-1914-1945?srcpath=%2Cfr%2Csuperbrevet%2Ctroisieme%2Chistoire-geographie-emc%2Ceurope-theatre-majeur-guerres-totales-1914-1945': {'title': 'L’Europe, \\u2028un théâtre majeur des\\xa0guerres totales (1914-1945)',\n",
       "  'category': \"Histoire - L'Europe, un théâtre majeur des guerres totales (1914-1945)\"},\n",
       " '/cours/democraties-fragilisees-et-experiences-totalitaires-dans-l-europe-de-l-entre-deux-guerres?srcpath=%2Cfr%2Csuperbrevet%2Ctroisieme%2Chistoire-geographie-emc%2Ceurope-theatre-majeur-guerres-totales-1914-1945': {'title': \"Démocraties fragilisées et expériences totalitaires dans l'Europe de l'entre-deux-guerres\",\n",
       "  'category': \"Histoire - L'Europe, un théâtre majeur des guerres totales (1914-1945)\"},\n",
       " '/cours/civils-et-militaires-dans-la-premiere-guerre-mondiale?srcpath=%2Cfr%2Csuperbrevet%2Ctroisieme%2Chistoire-geographie-emc%2Ceurope-theatre-majeur-guerres-totales-1914-1945': {'title': 'Civils et militaires dans la Première guerre mondiale',\n",
       "  'category': \"Histoire - L'Europe, un théâtre majeur des guerres totales (1914-1945)\"},\n",
       " '/cours/la-seconde-guerre-mondiale-une-guerre-d-aneantissement-1?srcpath=%2Cfr%2Csuperbrevet%2Ctroisieme%2Chistoire-geographie-emc%2Ceurope-theatre-majeur-guerres-totales-1914-1945': {'title': \"La Seconde Guerre mondiale, une guerre d'anéantissement\",\n",
       "  'category': \"Histoire - L'Europe, un théâtre majeur des guerres totales (1914-1945)\"},\n",
       " '/cours/la-france-defaite-et-occupee-regime-de-vichy-collaboration-resistance?srcpath=%2Cfr%2Csuperbrevet%2Ctroisieme%2Chistoire-geographie-emc%2Ceurope-theatre-majeur-guerres-totales-1914-1945': {'title': 'La France défaite et occupée : Régime de Vichy, collaboration, Résistance.',\n",
       "  'category': \"Histoire - L'Europe, un théâtre majeur des guerres totales (1914-1945)\"},\n",
       " '/cours/l-effondrement-des-empires-coloniaux?srcpath=%2Cfr%2Csuperbrevet%2Ctroisieme%2Chistoire-geographie-emc%2Cmonde-depuis-1945': {'title': 'L’effondrement des empires coloniaux',\n",
       "  'category': 'Histoire - Le monde depuis 1945'},\n",
       " '/cours/la-guerre-d-algerie-1954-1962?srcpath=%2Cfr%2Csuperbrevet%2Ctroisieme%2Chistoire-geographie-emc%2Cmonde-depuis-1945': {'title': 'La guerre d’Algérie (1954-1962)',\n",
       "  'category': 'Histoire - Le monde depuis 1945'},\n",
       " '/cours/un-monde-bipolaire-au-temps-de-la-guerre-froide-1945-1962?srcpath=%2Cfr%2Csuperbrevet%2Ctroisieme%2Chistoire-geographie-emc%2Cmonde-depuis-1945': {'title': 'Un monde bipolaire au temps de\\xa0la\\xa0guerre froide (1945-1962)',\n",
       "  'category': 'Histoire - Le monde depuis 1945'},\n",
       " '/cours/la-fin-de-la-guerre-froide-et-du-monde-bipolaire-1962-1991?srcpath=%2Cfr%2Csuperbrevet%2Ctroisieme%2Chistoire-geographie-emc%2Cmonde-depuis-1945': {'title': 'La fin de la guerre froide et\\xa0du\\xa0monde bipolaire (1962-1991)',\n",
       "  'category': 'Histoire - Le monde depuis 1945'},\n",
       " '/cours/affirmation-et-mise-en-oeuvre-du-projet-europeen-2?srcpath=%2Cfr%2Csuperbrevet%2Ctroisieme%2Chistoire-geographie-emc%2Cmonde-depuis-1945': {'title': 'Affirmation et mise en œuvre du\\xa0projet européen',\n",
       "  'category': 'Histoire - Le monde depuis 1945'},\n",
       " '/cours/enjeux-et-conflits-dans-le-monde-apres-1989-2?srcpath=%2Cfr%2Csuperbrevet%2Ctroisieme%2Chistoire-geographie-emc%2Cmonde-depuis-1945': {'title': 'Enjeux et conflits dans le monde après 1989',\n",
       "  'category': 'Histoire - Le monde depuis 1945'},\n",
       " '/cours/le-moyen-orient-foyer-de-conflits?srcpath=%2Cfr%2Csuperbrevet%2Ctroisieme%2Chistoire-geographie-emc%2Cmonde-depuis-1945': {'title': 'Le Moyen-Orient, foyer de conflits',\n",
       "  'category': 'Histoire - Le monde depuis 1945'},\n",
       " '/cours/le-monde-depuis-1945?srcpath=%2Cfr%2Csuperbrevet%2Ctroisieme%2Chistoire-geographie-emc%2Cmonde-depuis-1945': {'title': 'Le monde depuis 1945',\n",
       "  'category': 'Histoire - Le monde depuis 1945'},\n",
       " '/cours/independances-et-construction-de-nouveaux-etats?srcpath=%2Cfr%2Csuperbrevet%2Ctroisieme%2Chistoire-geographie-emc%2Cmonde-depuis-1945': {'title': 'Indépendances et construction de nouveaux États',\n",
       "  'category': 'Histoire - Le monde depuis 1945'},\n",
       " '/cours/un-monde-bipolaire-au-temps-de-la-guerre-froide?srcpath=%2Cfr%2Csuperbrevet%2Ctroisieme%2Chistoire-geographie-emc%2Cmonde-depuis-1945': {'title': 'Un monde bipolaire au temps de la guerre froide',\n",
       "  'category': 'Histoire - Le monde depuis 1945'},\n",
       " '/cours/affirmation-et-mise-en-oeuvre-du-projet-europeen-1?srcpath=%2Cfr%2Csuperbrevet%2Ctroisieme%2Chistoire-geographie-emc%2Cmonde-depuis-1945': {'title': 'Affirmation et mise en oeuvre du projet européen',\n",
       "  'category': 'Histoire - Le monde depuis 1945'},\n",
       " '/cours/enjeux-et-conflits-dans-le-monde-apres-1989-1?srcpath=%2Cfr%2Csuperbrevet%2Ctroisieme%2Chistoire-geographie-emc%2Cmonde-depuis-1945': {'title': 'Enjeux et conflits dans le monde après 1989',\n",
       "  'category': 'Histoire - Le monde depuis 1945'},\n",
       " '/cours/la-refondation-de-la-republique-apres-la-liberation-1944-1947?srcpath=%2Cfr%2Csuperbrevet%2Ctroisieme%2Chistoire-geographie-emc%2Cfrancaises-francais-dans-republique-repensee': {'title': 'La refondation de la République après la Libération (1944-1947)',\n",
       "  'category': 'Histoire - Françaises et Français dans une République repensée'},\n",
       " '/cours/la-naissance-de-la-cinquieme-republique-les-annees-de-gaulle-1958-1969?srcpath=%2Cfr%2Csuperbrevet%2Ctroisieme%2Chistoire-geographie-emc%2Cfrancaises-francais-dans-republique-repensee': {'title': 'La naissance de la Ve\\xa0République, les\\xa0années de\\xa0Gaulle (1958-1969)',\n",
       "  'category': 'Histoire - Françaises et Français dans une République repensée'},\n",
       " '/cours/la-cinquieme-republique-de-1969-a-1995-alternances-et-cohabitations?srcpath=%2Cfr%2Csuperbrevet%2Ctroisieme%2Chistoire-geographie-emc%2Cfrancaises-francais-dans-republique-repensee': {'title': 'La Ve\\xa0République de 1969 à 1995 : alternances et cohabitations',\n",
       "  'category': 'Histoire - Françaises et Français dans une République repensée'},\n",
       " '/cours/des-trente-glorieuses-a-la-crise-economique?srcpath=%2Cfr%2Csuperbrevet%2Ctroisieme%2Chistoire-geographie-emc%2Cfrancaises-francais-dans-republique-repensee': {'title': 'Des Trente Glorieuses à la crise économique',\n",
       "  'category': 'Histoire - Françaises et Français dans une République repensée'},\n",
       " '/cours/les-evolutions-de-la-societe-francaise-les-femmes?srcpath=%2Cfr%2Csuperbrevet%2Ctroisieme%2Chistoire-geographie-emc%2Cfrancaises-francais-dans-republique-repensee': {'title': 'Les évolutions de la société française\\xa0: les femmes',\n",
       "  'category': 'Histoire - Françaises et Français dans une République repensée'},\n",
       " '/cours/les-evolutions-de-la-societe-francaise-l-immigration?srcpath=%2Cfr%2Csuperbrevet%2Ctroisieme%2Chistoire-geographie-emc%2Cfrancaises-francais-dans-republique-repensee': {'title': 'Les évolutions de la société française\\xa0: l’immigration',\n",
       "  'category': 'Histoire - Françaises et Français dans une République repensée'},\n",
       " '/cours/francaises-et-francais-dans-une-republique-repensee?srcpath=%2Cfr%2Csuperbrevet%2Ctroisieme%2Chistoire-geographie-emc%2Cfrancaises-francais-dans-republique-repensee': {'title': 'Françaises \\u2028et Français dans une République repensée',\n",
       "  'category': 'Histoire - Françaises et Français dans une République repensée'},\n",
       " '/cours/femmes-et-hommes-dans-la-societe-des-annees-1950-aux-annees-1980-nouveaux-enjeux-sociaux-et-culturels-reponses-politiques?srcpath=%2Cfr%2Csuperbrevet%2Ctroisieme%2Chistoire-geographie-emc%2Cfrancaises-francais-dans-republique-repensee': {'title': 'Femmes et hommes dans la société des années 1950 aux années 1980 : nouveaux enjeux sociaux et culturels, réponses politiques',\n",
       "  'category': 'Histoire - Françaises et Français dans une République repensée'},\n",
       " '/cours/1944-1947-refonder-la-republique-redefinir-la-democratie?srcpath=%2Cfr%2Csuperbrevet%2Ctroisieme%2Chistoire-geographie-emc%2Cfrancaises-francais-dans-republique-repensee': {'title': '1944-1947 : Refonder la République, redéfinir la démocratie',\n",
       "  'category': 'Histoire - Françaises et Français dans une République repensée'},\n",
       " '/cours/la-cinquieme-republique-de-la-republique-gaullienne-a-l-alternance-et-a-la-cohabitation?srcpath=%2Cfr%2Csuperbrevet%2Ctroisieme%2Chistoire-geographie-emc%2Cfrancaises-francais-dans-republique-repensee': {'title': \"La Ve République, de la République gaullienne à l'alternance et à la cohabitation\",\n",
       "  'category': 'Histoire - Françaises et Français dans une République repensée'},\n",
       " '/cours/dynamiques-territoriales-de-la-france-contemporaine?srcpath=%2Cfr%2Csuperbrevet%2Ctroisieme%2Chistoire-geographie-emc%2Cdynamiques-territoriales-france-contemporaine': {'title': 'Dynamiques territoriales de\\xa0la France contemporaine',\n",
       "  'category': 'Géographie - Dynamiques territoriales de la France contemporaine'},\n",
       " '/cours/une-france-citadine?srcpath=%2Cfr%2Csuperbrevet%2Ctroisieme%2Chistoire-geographie-emc%2Cdynamiques-territoriales-france-contemporaine': {'title': 'Une France citadine',\n",
       "  'category': 'Géographie - Dynamiques territoriales de la France contemporaine'},\n",
       " '/cours/le-systeme-urbain-francais-1?srcpath=%2Cfr%2Csuperbrevet%2Ctroisieme%2Chistoire-geographie-emc%2Cdynamiques-territoriales-france-contemporaine': {'title': 'Le système urbain français',\n",
       "  'category': 'Géographie - Dynamiques territoriales de la France contemporaine'},\n",
       " '/cours/les-espaces-productifs-industriels?srcpath=%2Cfr%2Csuperbrevet%2Ctroisieme%2Chistoire-geographie-emc%2Cdynamiques-territoriales-france-contemporaine': {'title': 'Les espaces productifs industriels',\n",
       "  'category': 'Géographie - Dynamiques territoriales de la France contemporaine'},\n",
       " '/cours/les-espaces-productifs-agricoles?srcpath=%2Cfr%2Csuperbrevet%2Ctroisieme%2Chistoire-geographie-emc%2Cdynamiques-territoriales-france-contemporaine': {'title': 'Les espaces productifs agricoles',\n",
       "  'category': 'Géographie - Dynamiques territoriales de la France contemporaine'},\n",
       " '/cours/les-espaces-productifs-de-services?srcpath=%2Cfr%2Csuperbrevet%2Ctroisieme%2Chistoire-geographie-emc%2Cdynamiques-territoriales-france-contemporaine': {'title': 'Les espaces productifs de services',\n",
       "  'category': 'Géographie - Dynamiques territoriales de la France contemporaine'},\n",
       " '/cours/les-espaces-de-faible-densite-et-leurs-atouts-2?srcpath=%2Cfr%2Csuperbrevet%2Ctroisieme%2Chistoire-geographie-emc%2Cdynamiques-territoriales-france-contemporaine': {'title': 'Les espaces de faible densité et leurs atouts',\n",
       "  'category': 'Géographie - Dynamiques territoriales de la France contemporaine'},\n",
       " '/cours/les-espaces-productifs-et-leurs-evolutions?srcpath=%2Cfr%2Csuperbrevet%2Ctroisieme%2Chistoire-geographie-emc%2Cdynamiques-territoriales-france-contemporaine': {'title': 'Les espaces productifs et leurs évolutions',\n",
       "  'category': 'Géographie - Dynamiques territoriales de la France contemporaine'},\n",
       " '/cours/les-aires-urbaines-une-nouvelle-geographie-d-une-france-mondialisee?srcpath=%2Cfr%2Csuperbrevet%2Ctroisieme%2Chistoire-geographie-emc%2Cdynamiques-territoriales-france-contemporaine': {'title': \"Les aires urbaines, une nouvelle géographie d'une France mondialisée\",\n",
       "  'category': 'Géographie - Dynamiques territoriales de la France contemporaine'},\n",
       " '/cours/les-espaces-de-faible-densite-et-leurs-atouts-1?srcpath=%2Cfr%2Csuperbrevet%2Ctroisieme%2Chistoire-geographie-emc%2Cdynamiques-territoriales-france-contemporaine': {'title': 'Les espaces de faible densité et leurs atouts',\n",
       "  'category': 'Géographie - Dynamiques territoriales de la France contemporaine'},\n",
       " '/cours/l-amenagement-du-territoire-francais-objectifs-et-acteurs?srcpath=%2Cfr%2Csuperbrevet%2Ctroisieme%2Chistoire-geographie-emc%2Cpourquoi-comment-amenager-territoire': {'title': 'L’aménagement du territoire français\\xa0: objectifs et acteurs',\n",
       "  'category': 'Géographie - Pourquoi et comment aménager le territoire ?'},\n",
       " '/cours/l-organisation-du-territoire-francais-1?srcpath=%2Cfr%2Csuperbrevet%2Ctroisieme%2Chistoire-geographie-emc%2Cpourquoi-comment-amenager-territoire': {'title': 'L’organisation du territoire français',\n",
       "  'category': 'Géographie - Pourquoi et comment aménager le territoire ?'},\n",
       " '/cours/les-territoires-ultramarins-une-problematique-specifique?srcpath=%2Cfr%2Csuperbrevet%2Ctroisieme%2Chistoire-geographie-emc%2Cpourquoi-comment-amenager-territoire': {'title': 'Les territoires ultramarins\\xa0: une\\xa0problématique spécifique',\n",
       "  'category': 'Géographie - Pourquoi et comment aménager le territoire ?'},\n",
       " '/cours/un-territoire-ultramarin-l-exemple-de-la-guyane?srcpath=%2Cfr%2Csuperbrevet%2Ctroisieme%2Chistoire-geographie-emc%2Cpourquoi-comment-amenager-territoire': {'title': 'Un territoire ultramarin\\xa0: l’exemple\\xa0de la Guyane',\n",
       "  'category': 'Géographie - Pourquoi et comment aménager le territoire ?'},\n",
       " '/cours/pourquoi-et-comment-amenager-le-territoire?srcpath=%2Cfr%2Csuperbrevet%2Ctroisieme%2Chistoire-geographie-emc%2Cpourquoi-comment-amenager-territoire': {'title': 'Pourquoi et comment aménager le territoire\\xa0?',\n",
       "  'category': 'Géographie - Pourquoi et comment aménager le territoire ?'},\n",
       " '/cours/amenager-pour-repondre-aux-inegalites-croissantes-entre-territoires-francais-a-toutes-les-echelles?srcpath=%2Cfr%2Csuperbrevet%2Ctroisieme%2Chistoire-geographie-emc%2Cpourquoi-comment-amenager-territoire': {'title': 'Aménager pour répondre aux inégalités croissantes entre territoires français, à toutes les échelles',\n",
       "  'category': 'Géographie - Pourquoi et comment aménager le territoire ?'},\n",
       " '/cours/les-territoires-ultramarins-francais-une-problematique-specifique?srcpath=%2Cfr%2Csuperbrevet%2Ctroisieme%2Chistoire-geographie-emc%2Cpourquoi-comment-amenager-territoire': {'title': 'Les territoires ultramarins français : Une problématique spécifique',\n",
       "  'category': 'Géographie - Pourquoi et comment aménager le territoire ?'},\n",
       " '/cours/l-union-europeenne-un-territoire-en-construction?srcpath=%2Cfr%2Csuperbrevet%2Ctroisieme%2Chistoire-geographie-emc%2Cfrance-union-europeenne': {'title': 'L’Union européenne, un territoire en\\xa0construction',\n",
       "  'category': \"Géographie - La France et l'Union européenne\"},\n",
       " '/cours/les-contrastes-territoriaux-dans-l-union-europeenne?srcpath=%2Cfr%2Csuperbrevet%2Ctroisieme%2Chistoire-geographie-emc%2Cfrance-union-europeenne': {'title': 'Les contrastes territoriaux dans\\xa0l’Union européenne',\n",
       "  'category': \"Géographie - La France et l'Union européenne\"},\n",
       " '/cours/la-france-et-l-integration-europeenne?srcpath=%2Cfr%2Csuperbrevet%2Ctroisieme%2Chistoire-geographie-emc%2Cfrance-union-europeenne': {'title': 'La France et l’intégration européenne',\n",
       "  'category': \"Géographie - La France et l'Union européenne\"},\n",
       " '/cours/la-france-dans-le-monde-1?srcpath=%2Cfr%2Csuperbrevet%2Ctroisieme%2Chistoire-geographie-emc%2Cfrance-union-europeenne': {'title': 'La France dans le monde',\n",
       "  'category': \"Géographie - La France et l'Union européenne\"},\n",
       " '/cours/l-union-europeenne-dans-le-monde?srcpath=%2Cfr%2Csuperbrevet%2Ctroisieme%2Chistoire-geographie-emc%2Cfrance-union-europeenne': {'title': 'L’Union européenne dans le monde',\n",
       "  'category': \"Géographie - La France et l'Union européenne\"},\n",
       " '/cours/la-france-et-l-union-europeenne?srcpath=%2Cfr%2Csuperbrevet%2Ctroisieme%2Chistoire-geographie-emc%2Cfrance-union-europeenne': {'title': 'La France et\\xa0l’Union\\xa0européenne',\n",
       "  'category': \"Géographie - La France et l'Union européenne\"},\n",
       " '/cours/l-union-europeenne-un-nouveau-territoire-de-reference-et-d-appartenance?srcpath=%2Cfr%2Csuperbrevet%2Ctroisieme%2Chistoire-geographie-emc%2Cfrance-union-europeenne': {'title': \"L'Union Européenne, un nouveau territoire de référence et d'appartenance\",\n",
       "  'category': \"Géographie - La France et l'Union européenne\"},\n",
       " '/cours/la-france-et-l-europe-dans-le-monde?srcpath=%2Cfr%2Csuperbrevet%2Ctroisieme%2Chistoire-geographie-emc%2Cfrance-union-europeenne': {'title': \"La France et l'Europe dans le monde\",\n",
       "  'category': \"Géographie - La France et l'Union européenne\"},\n",
       " '/cours/mes-identites-2?srcpath=%2Cfr%2Csuperbrevet%2Ctroisieme%2Chistoire-geographie-emc%2Csensibilite': {'title': 'Mes identités',\n",
       "  'category': 'EMC - La sensibilité'},\n",
       " '/cours/mes-sentiments-d-appartenance?srcpath=%2Cfr%2Csuperbrevet%2Ctroisieme%2Chistoire-geographie-emc%2Csensibilite': {'title': 'Mes sentiments d’appartenance',\n",
       "  'category': 'EMC - La sensibilité'},\n",
       " '/cours/citoyen-francais-et-citoyen-europeen?srcpath=%2Cfr%2Csuperbrevet%2Ctroisieme%2Chistoire-geographie-emc%2Csensibilite': {'title': 'Citoyen français et citoyen européen',\n",
       "  'category': 'EMC - La sensibilité'},\n",
       " '/cours/la-citoyennete-en-france-et-en-europe?srcpath=%2Cfr%2Csuperbrevet%2Ctroisieme%2Chistoire-geographie-emc%2Csensibilite': {'title': 'La citoyenneté en France et en Europe',\n",
       "  'category': 'EMC - La sensibilité'},\n",
       " '/cours/principes-valeurs-et-symboles-francais-et-europeens?srcpath=%2Cfr%2Csuperbrevet%2Ctroisieme%2Chistoire-geographie-emc%2Csensibilite': {'title': 'Principes, valeurs et symboles français et européens',\n",
       "  'category': 'EMC - La sensibilité'},\n",
       " '/cours/les-droits-fondamentaux-2?srcpath=%2Cfr%2Csuperbrevet%2Ctroisieme%2Chistoire-geographie-emc%2Cdroit-regle': {'title': 'Les droits fondamentaux',\n",
       "  'category': 'EMC - Le droit et la règle'},\n",
       " '/cours/l-elaboration-des-lois?srcpath=%2Cfr%2Csuperbrevet%2Ctroisieme%2Chistoire-geographie-emc%2Cdroit-regle': {'title': 'L’élaboration des lois',\n",
       "  'category': 'EMC - Le droit et la règle'},\n",
       " '/cours/la-sensibilite-le-droit-et-la-regle?srcpath=%2Cfr%2Csuperbrevet%2Ctroisieme%2Chistoire-geographie-emc%2Cdroit-regle': {'title': 'La sensibilité • Le droit et la règle',\n",
       "  'category': 'EMC - Le droit et la règle'},\n",
       " '/cours/les-principes-d-un-etat-democratique-et-leurs-traductions-dans-les-institutions-de-la-cinquieme-republique?srcpath=%2Cfr%2Csuperbrevet%2Ctroisieme%2Chistoire-geographie-emc%2Cdroit-regle': {'title': \"Les principes d'un État démocratique et leurs traductions dans les institutions de la Ve République\",\n",
       "  'category': 'EMC - Le droit et la règle'},\n",
       " '/cours/les-grandes-declarations-des-droits-de-l-homme?srcpath=%2Cfr%2Csuperbrevet%2Ctroisieme%2Chistoire-geographie-emc%2Cdroit-regle': {'title': \"Les grandes déclarations des Droits de l'Homme\",\n",
       "  'category': 'EMC - Le droit et la règle'},\n",
       " '/cours/les-principes-de-la-laicite?srcpath=%2Cfr%2Csuperbrevet%2Ctroisieme%2Chistoire-geographie-emc%2Cdroit-regle': {'title': 'Les principes de la laïcité',\n",
       "  'category': 'EMC - Le droit et la règle'},\n",
       " '/cours/la-lutte-contre-les-discriminations?srcpath=%2Cfr%2Csuperbrevet%2Ctroisieme%2Chistoire-geographie-emc%2Cjugement': {'title': 'La lutte contre les discriminations',\n",
       "  'category': 'EMC - Le jugement'},\n",
       " '/cours/le-principe-de-laicite?srcpath=%2Cfr%2Csuperbrevet%2Ctroisieme%2Chistoire-geographie-emc%2Cjugement': {'title': 'Le principe de laïcité',\n",
       "  'category': 'EMC - Le jugement'},\n",
       " '/cours/qu-est-ce-qu-une-democratie?srcpath=%2Cfr%2Csuperbrevet%2Ctroisieme%2Chistoire-geographie-emc%2Cjugement': {'title': 'Qu’est-ce qu’une démocratie\\xa0?',\n",
       "  'category': 'EMC - Le jugement'},\n",
       " '/cours/le-jugement-l-engagement?srcpath=%2Cfr%2Csuperbrevet%2Ctroisieme%2Chistoire-geographie-emc%2Cjugement': {'title': 'Le jugement • L’engagement',\n",
       "  'category': 'EMC - Le jugement'},\n",
       " '/cours/le-sens-de-l-engagement?srcpath=%2Cfr%2Csuperbrevet%2Ctroisieme%2Chistoire-geographie-emc%2Cengagement': {'title': 'Le sens de l’engagement',\n",
       "  'category': \"EMC - L'engagement\"},\n",
       " '/cours/assurer-la-securite-de-tous?srcpath=%2Cfr%2Csuperbrevet%2Ctroisieme%2Chistoire-geographie-emc%2Cengagement': {'title': 'Assurer la sécurité de tous',\n",
       "  'category': \"EMC - L'engagement\"},\n",
       " '/cours/les-engagements-internationaux-de-la-france?srcpath=%2Cfr%2Csuperbrevet%2Ctroisieme%2Chistoire-geographie-emc%2Cengagement': {'title': 'Les engagements internationaux de\\xa0la France',\n",
       "  'category': \"EMC - L'engagement\"},\n",
       " '/cours/l-organisation-de-la-defense-en-france?srcpath=%2Cfr%2Csuperbrevet%2Ctroisieme%2Chistoire-geographie-emc%2Cengagement': {'title': \"L'organisation de la défense en France\",\n",
       "  'category': \"EMC - L'engagement\"},\n",
       " '/cours/l-engagement-dans-la-vie-democratique?srcpath=%2Cfr%2Csuperbrevet%2Ctroisieme%2Chistoire-geographie-emc%2Cengagement': {'title': \"L'engagement dans la vie démocratique\",\n",
       "  'category': \"EMC - L'engagement\"},\n",
       " '/cours/la-france-et-l-union-europeenne-dans-le-monde?srcpath=%2Cfr%2Csuperbrevet%2Ctroisieme%2Chistoire-geographie-emc%2Ccours-audio': {'title': 'Cours audio - La France et l’Union européenne dans le monde',\n",
       "  'category': 'Cours audio'},\n",
       " '/cours/le-territoire-de-l-union-europeenne?srcpath=%2Cfr%2Csuperbrevet%2Ctroisieme%2Chistoire-geographie-emc%2Ccours-audio': {'title': 'Cours audio - Le territoire de l’Union européenne',\n",
       "  'category': 'Cours audio'},\n",
       " '/cours/l-amenagement-du-territoire-francais?srcpath=%2Cfr%2Csuperbrevet%2Ctroisieme%2Chistoire-geographie-emc%2Ccours-audio': {'title': 'Cours audio - L’aménagement du territoire français',\n",
       "  'category': 'Cours audio'},\n",
       " '/cours/les-espaces-de-faible-densite-et-leurs-atouts?srcpath=%2Cfr%2Csuperbrevet%2Ctroisieme%2Chistoire-geographie-emc%2Ccours-audio': {'title': 'Cours audio - Les espaces de faible densité et leurs atouts',\n",
       "  'category': 'Cours audio'},\n",
       " '/cours/le-systeme-urbain-francais-2?srcpath=%2Cfr%2Csuperbrevet%2Ctroisieme%2Chistoire-geographie-emc%2Ccours-audio': {'title': 'Cours audio - Le système urbain français',\n",
       "  'category': 'Cours audio'},\n",
       " '/cours/la-cinquieme-republique-1958-1995?srcpath=%2Cfr%2Csuperbrevet%2Ctroisieme%2Chistoire-geographie-emc%2Ccours-audio': {'title': 'Cours audio - La Ve République (1958-1995)',\n",
       "  'category': 'Cours audio'},\n",
       " '/cours/la-refondation-de-la-republique-a-la-liberation-1944-1946?srcpath=%2Cfr%2Csuperbrevet%2Ctroisieme%2Chistoire-geographie-emc%2Ccours-audio': {'title': 'Cours audio - La refondation de la République à la Libération (1944-1946)',\n",
       "  'category': 'Cours audio'},\n",
       " '/cours/affirmation-et-mise-en-oeuvre-du-projet-europeen?srcpath=%2Cfr%2Csuperbrevet%2Ctroisieme%2Chistoire-geographie-emc%2Ccours-audio': {'title': 'Cours audio - Affirmation et mise en œuvre du projet européen',\n",
       "  'category': 'Cours audio'},\n",
       " '/cours/civils-et-militaires-dans-une-guerre-totale?srcpath=%2Cfr%2Csuperbrevet%2Ctroisieme%2Chistoire-geographie-emc%2Ccours-audio': {'title': 'Cours audio - Civils et militaires dans une guerre totale',\n",
       "  'category': 'Cours audio'},\n",
       " '/cours/l-organisation-du-territoire-francais-2?srcpath=%2Cfr%2Csuperbrevet%2Ctroisieme%2Chistoire-geographie-emc%2Ccours-audio': {'title': 'Cours audio - L’organisation du territoire français',\n",
       "  'category': 'Cours audio'},\n",
       " '/cours/les-espaces-productifs-en-france?srcpath=%2Cfr%2Csuperbrevet%2Ctroisieme%2Chistoire-geographie-emc%2Ccours-audio': {'title': 'Cours audio - Les espaces productifs en France',\n",
       "  'category': 'Cours audio'},\n",
       " '/cours/la-decolonisation-et-la-naissance-du-tiers-monde?srcpath=%2Cfr%2Csuperbrevet%2Ctroisieme%2Chistoire-geographie-emc%2Ccours-audio': {'title': 'Cours audio - La décolonisation et la naissance du Tiers-Monde',\n",
       "  'category': 'Cours audio'},\n",
       " '/cours/de-la-guerre-froide-a-la-dislocation-des-blocs?srcpath=%2Cfr%2Csuperbrevet%2Ctroisieme%2Chistoire-geographie-emc%2Ccours-audio': {'title': 'Cours audio - De la guerre froide à la dislocation des blocs',\n",
       "  'category': 'Cours audio'},\n",
       " '/cours/la-seconde-guerre-mondiale-2?srcpath=%2Cfr%2Csuperbrevet%2Ctroisieme%2Chistoire-geographie-emc%2Ccours-audio': {'title': 'Cours audio - La Seconde Guerre mondiale',\n",
       "  'category': 'Cours audio'},\n",
       " '/cours/la-france-dans-la-seconde-guerre-mondiale?srcpath=%2Cfr%2Csuperbrevet%2Ctroisieme%2Chistoire-geographie-emc%2Ccours-audio': {'title': 'Cours audio - La France dans la Seconde Guerre mondiale',\n",
       "  'category': 'Cours audio'},\n",
       " '/cours/l-allemagne-nazie?srcpath=%2Cfr%2Csuperbrevet%2Ctroisieme%2Chistoire-geographie-emc%2Ccours-audio': {'title': 'Cours audio - L’Allemagne nazie',\n",
       "  'category': 'Cours audio'},\n",
       " '/cours/le-front-populaire-en-france?srcpath=%2Cfr%2Csuperbrevet%2Ctroisieme%2Chistoire-geographie-emc%2Ccours-audio': {'title': 'Cours audio - Le Front populaire en France',\n",
       "  'category': 'Cours audio'},\n",
       " '/cours/l-urss-de-staline?srcpath=%2Cfr%2Csuperbrevet%2Ctroisieme%2Chistoire-geographie-emc%2Ccours-audio': {'title': 'Cours audio - L’URSS de Staline',\n",
       "  'category': 'Cours audio'},\n",
       " '/cours/la-premiere-guerre-mondiale-et-ses-consequences?srcpath=%2Cfr%2Csuperbrevet%2Ctroisieme%2Chistoire-geographie-emc%2Ccours-audio': {'title': 'Cours audio - La Première Guerre mondiale et ses conséquences',\n",
       "  'category': 'Cours audio'},\n",
       " '/cours/methode-developpement?srcpath=%2Cfr%2Csuperbrevet%2Ctroisieme%2Chistoire-geographie-emc%2Cconseils-et-methode': {'title': 'Méthode : développement construit',\n",
       "  'category': 'Conseils et méthode'},\n",
       " '/cours/methode-cartographie?srcpath=%2Cfr%2Csuperbrevet%2Ctroisieme%2Chistoire-geographie-emc%2Cconseils-et-methode': {'title': 'Méthode : cartographie',\n",
       "  'category': 'Conseils et méthode'},\n",
       " '/cours/methode-analyse-de-document-s?srcpath=%2Cfr%2Csuperbrevet%2Ctroisieme%2Chistoire-geographie-emc%2Cconseils-et-methode': {'title': 'Méthode : analyse de document(s)',\n",
       "  'category': 'Conseils et méthode'},\n",
       " '/cours/schemas-et-croquis-en-geographie-ezg1?srcpath=%2Cfr%2Csuperbrevet%2Ctroisieme%2Chistoire-geographie-emc%2Cconseils-et-methode': {'title': 'Schémas et croquis en géographie',\n",
       "  'category': 'Conseils et méthode'},\n",
       " '/cours/les-dates-a-connaitre-par-coeur-en-histoire-dgs9?srcpath=%2Cfr%2Csuperbrevet%2Ctroisieme%2Chistoire-geographie-emc%2Cconseils-et-methode': {'title': 'Les dates à connaître par cœur en histoire',\n",
       "  'category': 'Conseils et méthode'},\n",
       " '/cours/methode-du-developpement-construit-kg3t?srcpath=%2Cfr%2Csuperbrevet%2Ctroisieme%2Chistoire-geographie-emc%2Cconseils-et-methode': {'title': 'Méthode du développement construit',\n",
       "  'category': 'Conseils et méthode'}}"
      ]
     },
     "execution_count": 21,
     "metadata": {},
     "output_type": "execute_result"
    }
   ],
   "source": [
    "courses = get_course(url)\n",
    "courses"
   ]
  },
  {
   "cell_type": "code",
   "execution_count": 22,
   "metadata": {},
   "outputs": [],
   "source": [
    "import re\n",
    "def get_lessons(url):\n",
    "    # function to retrieve the lessons contente from the url\n",
    "    soup = get_soup(url)\n",
    "    if not soup:\n",
    "        print(\"Error: No soup\")\n",
    "    latex_span = soup.find('span', class_=\"__Latex__\")\n",
    "    if latex_span:\n",
    "            article = latex_span.find_parent('article')\n",
    "            if article:\n",
    "                content = article.get_text(separator=' ', strip=True)\n",
    "    \n",
    "    return content\n",
    "      "
   ]
  },
  {
   "cell_type": "code",
   "execution_count": 23,
   "metadata": {},
   "outputs": [],
   "source": [
    "url_lesson = \"https://www.digischool.fr/cours/les-civils-dans-une-guerre-totale?srcpath=%2Cfr%2Csuperbrevet%2Ctroisieme%2Chistoire-geographie-emc%2Ceurope-theatre-majeur-guerres-totales-1914-1945\"\n",
    "soup = get_soup(url_lesson)"
   ]
  },
  {
   "cell_type": "code",
   "execution_count": 24,
   "metadata": {},
   "outputs": [],
   "source": [
    "content = get_lessons(url_lesson)"
   ]
  },
  {
   "cell_type": "code",
   "execution_count": 25,
   "metadata": {},
   "outputs": [
    {
     "name": "stdout",
     "output_type": "stream",
     "text": [
      "Légende de la leçon Jaune : dates, chiffres. Vert : définitions. Introduction Quelle est la place des civils dans la Grande Guerre ? I. La mobilisation de l’arrière dans l’effort de guerre 1) Une mobilisation économique et financière La guerre totale suppose une mobilisation de tous : les civils, notamment les femmes, remplacent les hommes partis au front, dans tous les secteurs d’activité. Les matières premières et les produits agricoles sont réquisitionnés pour l’armée. Mot-clé L’inflation est la hausse généralisée des prix. L’État doit financer l’effort de guerre : il lance donc des emprunts d’État , auprès des États-Unis notamment, crée de nouveaux impôts directs (en France, sur le revenu en 1917 ) ou indirects (loterie nationale). Il augmente la masse monétaire en circulation en émettant de nouveaux billets, entraînant une forte inflation. Les États favorisent le développement des industries de guerre qui produisent massivement de nouvelles armes, comme les avions et les chars. 2) Des civils soumis à une « culture de guerre » Afin d’éviter le défaitisme, la presse et le courrier sont censurés. La propagande exalte les victoires, tait ou minimise les échecs, diffuse de fausses informations : c’est le « bourrage de crâne ». Tous les supports sont utilisés pour véhiculer une « culture de guerre » : journaux, jouets, images, objets de la vie quotidienne. II. Les civils, victimes des violences de guerre 1) L’effacement des limites entre civils et militaires Les civils subissent les violences de guerre, directement (bombardements, occupation) ou indirectement (accueil des soldats en permission, …). 40 % des victimes du conflit sont des civils . À l’arrière, les conditions de vie sont difficiles : le rationnement des civils est établi pour limiter les effets de la pénurie . 2) Le génocide des Arméniens Entre 1915 et 1916 , 1,5 million d’Arméniens sont éliminés par ­l’armée ottomane. Ils sont victimes de massacres dans les villes, mais aussi de « marches de la mort », au cours desquelles beaucoup meurent d’épuisement ou sont abattus par les soldats. L’élimination des Arméniens répond à des objectifs religieux et ethniques, car les autorités ottomanes les considèrent comme des traîtres responsables de leurs difficultés militaires. L’élimination programmée, intentionnelle et systématique d’un groupe ethnique , telle celle des Arméniens, est qualifiée de génocide . III. Des sociétés bouleversées 1) Des sociétés traumatisées Le bilan de la Première Guerre mondiale est lourd : 9 millions de morts en Europe et 20 millions de blessés dont les « gueules cassées », les soldats mutilés par les bombardements. Environ 900 Français et 1 200 Allemands ont péri chaque jour. Les conséquences de la guerre diffèrent d’un pays à l’autre : en France, de nombreux anciens combattants veulent que cette guerre soit la « der des ders » et militent pour le pacifisme ; en Allemagne et en Italie, le traité de Versailles signé le 28 juin 1919 est vécu comme une humiliation. Jugée responsable de la guerre, l’Allemagne doit payer de lourdes réparations . Le pays est désarmé, la Rhénanie démilitarisée. La France recouvre l’Alsace et la Lorraine. Les « terres irrédentes » promises à l’Italie par les Alliés ne lui sont pas cédées. 2) Des sociétés en deuil Les nations européennes organisent la commémoration de la Première Guerre mondiale : les monuments aux morts et les cérémonies du 11 Novembre cherchent à construire une mémoire collective. Ils doivent permettre aux familles de faire leur deuil et d’atténuer ainsi leurs souffrances. Conclusion La Grande Guerre a mobilisé aussi bien le front que l’arrière. Elle laisse des sociétés traumatisées et brutalisées par les violences qu’elles ont subies.\n"
     ]
    }
   ],
   "source": [
    "print(content)"
   ]
  },
  {
   "cell_type": "code",
   "execution_count": 26,
   "metadata": {},
   "outputs": [],
   "source": [
    "def run():\n",
    "    info = {}\n",
    "    # get the courses links\n",
    "    courses = get_links(url)\n",
    "    # get the lessons content\n",
    "    for course in courses:\n",
    "        content = get_lessons(base_url + course)\n",
    "        info[course] = content\n",
    "    return info\n",
    "\n",
    "        "
   ]
  },
  {
   "cell_type": "code",
   "execution_count": 27,
   "metadata": {},
   "outputs": [
    {
     "ename": "TypeError",
     "evalue": "can only concatenate str (not \"tuple\") to str",
     "output_type": "error",
     "traceback": [
      "\u001b[1;31m---------------------------------------------------------------------------\u001b[0m",
      "\u001b[1;31mTypeError\u001b[0m                                 Traceback (most recent call last)",
      "Cell \u001b[1;32mIn[27], line 1\u001b[0m\n\u001b[1;32m----> 1\u001b[0m info \u001b[38;5;241m=\u001b[39m \u001b[43mrun\u001b[49m\u001b[43m(\u001b[49m\u001b[43m)\u001b[49m\n\u001b[0;32m      2\u001b[0m info\n",
      "Cell \u001b[1;32mIn[26], line 7\u001b[0m, in \u001b[0;36mrun\u001b[1;34m()\u001b[0m\n\u001b[0;32m      5\u001b[0m \u001b[38;5;66;03m# get the lessons content\u001b[39;00m\n\u001b[0;32m      6\u001b[0m \u001b[38;5;28;01mfor\u001b[39;00m course \u001b[38;5;129;01min\u001b[39;00m courses:\n\u001b[1;32m----> 7\u001b[0m     content \u001b[38;5;241m=\u001b[39m get_lessons(\u001b[43mbase_url\u001b[49m\u001b[43m \u001b[49m\u001b[38;5;241;43m+\u001b[39;49m\u001b[43m \u001b[49m\u001b[43mcourse\u001b[49m)\n\u001b[0;32m      8\u001b[0m     info[course] \u001b[38;5;241m=\u001b[39m content\n\u001b[0;32m      9\u001b[0m \u001b[38;5;28;01mreturn\u001b[39;00m info\n",
      "\u001b[1;31mTypeError\u001b[0m: can only concatenate str (not \"tuple\") to str"
     ]
    }
   ],
   "source": [
    "info = run()\n",
    "info"
   ]
  },
  {
   "cell_type": "code",
   "execution_count": 28,
   "metadata": {},
   "outputs": [],
   "source": [
    "test_kartable = \"https://www.kartable.fr/ressources/histoire/cours/les-civils-et-les-militaires-dans-la-premiere-guerre-mondiale/60392\""
   ]
  },
  {
   "cell_type": "code",
   "execution_count": 29,
   "metadata": {},
   "outputs": [],
   "source": [
    "soup = get_soup(test_kartable)"
   ]
  },
  {
   "cell_type": "code",
   "execution_count": 30,
   "metadata": {},
   "outputs": [],
   "source": [
    "url_kar_prog =\"https://www.kartable.fr/troisieme/histoire/specifique\""
   ]
  },
  {
   "cell_type": "code",
   "execution_count": 31,
   "metadata": {},
   "outputs": [],
   "source": [
    "soup = get_soup(url_kar_prog)"
   ]
  },
  {
   "cell_type": "code",
   "execution_count": 32,
   "metadata": {},
   "outputs": [],
   "source": [
    "from bs4 import BeautifulSoup\n",
    "\n",
    "def get_all_theme_courses(url: str) -> list:\n",
    "    soup = get_soup(url)\n",
    "    themes_dict = {}\n",
    "    \n",
    "    sections = soup.find_all(\"section\", class_=lambda c: c and \"categories__group\" in c)\n",
    "    for section in sections:\n",
    "        theme_div = section.find(\"div\", class_=lambda c: c and \"categories__group-type\" in c)\n",
    "        if theme_div:\n",
    "            name_elem = theme_div.find(\"p\", class_=lambda c: c and \"subtitle-1\" in c)\n",
    "            title_elem = theme_div.find(\"h3\")\n",
    "            theme_name = name_elem.get_text(strip=True) if name_elem else \"\"\n",
    "            theme_title = title_elem.get_text(strip=True) if title_elem else \"\"\n",
    "        else:\n",
    "            theme_name, theme_title = \"\", \"\"\n",
    "        \n",
    "        key = (theme_name, theme_title)\n",
    "        courses = []\n",
    "        # Restreindre la recherche aux catégories hiérarchiques en enfant direct\n",
    "        hierarchy = section.find(\"categories-hierarchy\", recursive=False)\n",
    "        if hierarchy:\n",
    "            articles = hierarchy.find_all(\"article\", class_=lambda c: c and \"category\" in c)\n",
    "            for article in articles:\n",
    "                a_tag = article.find(\"a\", class_=lambda c: c and \"category__link\" in c)\n",
    "                if a_tag:\n",
    "                    link = a_tag.get(\"href\", \"\")\n",
    "                    content = a_tag.find(\"article\", class_=lambda c: c and \"category__content\" in c)\n",
    "                    if content:\n",
    "                        title_elem = content.find(\"p\", class_=lambda c: c and \"category__title\" in c)\n",
    "                        course_title = title_elem.get_text(strip=True) if title_elem else \"\"\n",
    "                        courses.append({\"link\": link, \"title\": course_title})\n",
    "        \n",
    "        if key in themes_dict:\n",
    "            themes_dict[key][\"courses\"].extend(courses)\n",
    "        else:\n",
    "            themes_dict[key] = {\n",
    "                \"theme_name\": theme_name,\n",
    "                \"theme_title\": theme_title,\n",
    "                \"courses\": courses\n",
    "            }\n",
    "    \n",
    "    return list(themes_dict.values())"
   ]
  },
  {
   "cell_type": "code",
   "execution_count": 33,
   "metadata": {},
   "outputs": [],
   "source": [
    "themes = get_all_theme_courses(url_kar_prog)"
   ]
  },
  {
   "cell_type": "code",
   "execution_count": 34,
   "metadata": {},
   "outputs": [
    {
     "data": {
      "text/plain": [
       "[{'theme_name': 'Thème 1',\n",
       "  'theme_title': \"L'Europe, un théâtre majeur des guerres totales (1914-1945)\",\n",
       "  'courses': [{'link': '/ressources/histoire/cours/les-civils-et-les-militaires-dans-la-premiere-guerre-mondiale/60392',\n",
       "    'title': 'Les civils et les militaires dans la Première Guerre mondiale'},\n",
       "   {'link': '/ressources/histoire/cours/les-democraties-fragilisees-et-les-experiences-totalitaires-dans-leurope-de-lentre-deux-guerres/60393',\n",
       "    'title': \"Les démocraties fragilisées et les expériences totalitaires dans l'Europe de l’entre-deux-guerres\"},\n",
       "   {'link': '/ressources/histoire/cours/la-seconde-guerre-mondiale-une-guerre-daneantissement-2/60394',\n",
       "    'title': \"La Seconde Guerre mondiale : une guerre d'anéantissement\"},\n",
       "   {'link': '/ressources/histoire/cours/la-france-defaite-et-occupee-collaboration-et-resistance/60395',\n",
       "    'title': 'La France défaite et occupée : collaboration et résistance'},\n",
       "   {'link': '/ressources/histoire/cours/independances-et-construction-de-nouveaux-etats-4/60396',\n",
       "    'title': 'Indépendances et construction de nouveaux États'},\n",
       "   {'link': '/ressources/histoire/cours/un-monde-bipolaire-au-temps-de-la-guerre-froide-4/60397',\n",
       "    'title': 'Un monde bipolaire au temps de la guerre froide'},\n",
       "   {'link': '/ressources/histoire/cours/laffirmation-et-la-mise-en-oeuvre-du-projet-europeen-4/60398',\n",
       "    'title': \"L'affirmation et la mise en œuvre du projet européen\"},\n",
       "   {'link': '/ressources/histoire/cours/les-enjeux-et-les-conflits-dans-le-monde-apres-1989/60399',\n",
       "    'title': 'Les enjeux et les conflits dans le monde après 1989'},\n",
       "   {'link': '/ressources/histoire/cours/1944-1947-refonder-la-republique-redefinir-la-democratie/60400',\n",
       "    'title': '1944-1947 : refonder la république, redéfinir la démocratie'},\n",
       "   {'link': '/ressources/histoire/cours/la-ve-republique-de-la-republique-gaullienne-a-lalternance-et-a-la-cohabitation/60401',\n",
       "    'title': 'La Ve République : de la république gaullienne à l’alternance et à la cohabitation'},\n",
       "   {'link': '/ressources/histoire/cours/la-societe-francaise-des-annees-1950-aux-annees-1980/60402',\n",
       "    'title': 'La société française des années 1950 aux années 1980'},\n",
       "   {'link': '/ressources/histoire/cours/les-civils-et-les-militaires-dans-la-premiere-guerre-mondiale/60392',\n",
       "    'title': 'Les civils et les militaires dans la Première Guerre mondiale'},\n",
       "   {'link': '/ressources/histoire/cours/les-democraties-fragilisees-et-les-experiences-totalitaires-dans-leurope-de-lentre-deux-guerres/60393',\n",
       "    'title': \"Les démocraties fragilisées et les expériences totalitaires dans l'Europe de l’entre-deux-guerres\"},\n",
       "   {'link': '/ressources/histoire/cours/la-seconde-guerre-mondiale-une-guerre-daneantissement-2/60394',\n",
       "    'title': \"La Seconde Guerre mondiale : une guerre d'anéantissement\"},\n",
       "   {'link': '/ressources/histoire/cours/la-france-defaite-et-occupee-collaboration-et-resistance/60395',\n",
       "    'title': 'La France défaite et occupée : collaboration et résistance'},\n",
       "   {'link': '/ressources/histoire/cours/independances-et-construction-de-nouveaux-etats-4/60396',\n",
       "    'title': 'Indépendances et construction de nouveaux États'},\n",
       "   {'link': '/ressources/histoire/cours/un-monde-bipolaire-au-temps-de-la-guerre-froide-4/60397',\n",
       "    'title': 'Un monde bipolaire au temps de la guerre froide'},\n",
       "   {'link': '/ressources/histoire/cours/laffirmation-et-la-mise-en-oeuvre-du-projet-europeen-4/60398',\n",
       "    'title': \"L'affirmation et la mise en œuvre du projet européen\"},\n",
       "   {'link': '/ressources/histoire/cours/les-enjeux-et-les-conflits-dans-le-monde-apres-1989/60399',\n",
       "    'title': 'Les enjeux et les conflits dans le monde après 1989'},\n",
       "   {'link': '/ressources/histoire/cours/1944-1947-refonder-la-republique-redefinir-la-democratie/60400',\n",
       "    'title': '1944-1947 : refonder la république, redéfinir la démocratie'},\n",
       "   {'link': '/ressources/histoire/cours/la-ve-republique-de-la-republique-gaullienne-a-lalternance-et-a-la-cohabitation/60401',\n",
       "    'title': 'La Ve République : de la république gaullienne à l’alternance et à la cohabitation'},\n",
       "   {'link': '/ressources/histoire/cours/la-societe-francaise-des-annees-1950-aux-annees-1980/60402',\n",
       "    'title': 'La société française des années 1950 aux années 1980'},\n",
       "   {'link': '/ressources/histoire/cours/les-civils-et-les-militaires-dans-la-premiere-guerre-mondiale/60392',\n",
       "    'title': 'Les civils et les militaires dans la Première Guerre mondiale'},\n",
       "   {'link': '/ressources/histoire/cours/les-democraties-fragilisees-et-les-experiences-totalitaires-dans-leurope-de-lentre-deux-guerres/60393',\n",
       "    'title': \"Les démocraties fragilisées et les expériences totalitaires dans l'Europe de l’entre-deux-guerres\"},\n",
       "   {'link': '/ressources/histoire/cours/la-seconde-guerre-mondiale-une-guerre-daneantissement-2/60394',\n",
       "    'title': \"La Seconde Guerre mondiale : une guerre d'anéantissement\"},\n",
       "   {'link': '/ressources/histoire/cours/la-france-defaite-et-occupee-collaboration-et-resistance/60395',\n",
       "    'title': 'La France défaite et occupée : collaboration et résistance'}]},\n",
       " {'theme_name': 'Thème 2',\n",
       "  'theme_title': 'Le monde depuis 1945',\n",
       "  'courses': [{'link': '/ressources/histoire/cours/independances-et-construction-de-nouveaux-etats-4/60396',\n",
       "    'title': 'Indépendances et construction de nouveaux États'},\n",
       "   {'link': '/ressources/histoire/cours/un-monde-bipolaire-au-temps-de-la-guerre-froide-4/60397',\n",
       "    'title': 'Un monde bipolaire au temps de la guerre froide'},\n",
       "   {'link': '/ressources/histoire/cours/laffirmation-et-la-mise-en-oeuvre-du-projet-europeen-4/60398',\n",
       "    'title': \"L'affirmation et la mise en œuvre du projet européen\"},\n",
       "   {'link': '/ressources/histoire/cours/les-enjeux-et-les-conflits-dans-le-monde-apres-1989/60399',\n",
       "    'title': 'Les enjeux et les conflits dans le monde après 1989'}]},\n",
       " {'theme_name': 'Thème 3',\n",
       "  'theme_title': 'Françaises et Français dans une république repensée',\n",
       "  'courses': [{'link': '/ressources/histoire/cours/1944-1947-refonder-la-republique-redefinir-la-democratie/60400',\n",
       "    'title': '1944-1947 : refonder la république, redéfinir la démocratie'},\n",
       "   {'link': '/ressources/histoire/cours/la-ve-republique-de-la-republique-gaullienne-a-lalternance-et-a-la-cohabitation/60401',\n",
       "    'title': 'La Ve République : de la république gaullienne à l’alternance et à la cohabitation'},\n",
       "   {'link': '/ressources/histoire/cours/la-societe-francaise-des-annees-1950-aux-annees-1980/60402',\n",
       "    'title': 'La société française des années 1950 aux années 1980'}]}]"
      ]
     },
     "execution_count": 34,
     "metadata": {},
     "output_type": "execute_result"
    }
   ],
   "source": [
    "themes"
   ]
  },
  {
   "cell_type": "code",
   "execution_count": 35,
   "metadata": {},
   "outputs": [],
   "source": [
    "test_schoolmovze = \"https://www.schoolmouv.fr/cours/la-seconde-guerre-mondiale-une-guerre-d-aneantissement/fiche-de-cours\""
   ]
  },
  {
   "cell_type": "code",
   "execution_count": 36,
   "metadata": {},
   "outputs": [],
   "source": [
    "soup = get_soup(test_schoolmovze)"
   ]
  },
  {
   "cell_type": "code",
   "execution_count": 37,
   "metadata": {},
   "outputs": [],
   "source": [
    "content_schoolmovze = soup.find('div', class_=\"luna-content_luna-content__section__z7rg5\").text"
   ]
  },
  {
   "cell_type": "code",
   "execution_count": 38,
   "metadata": {},
   "outputs": [
    {
     "name": "stdout",
     "output_type": "stream",
     "text": [
      "Introduction :\n",
      "La Seconde Guerre mondiale (1939-1945) se caractérise par l’idée d’anéantissement total de l’ennemi. C’est une guerre d’une violence extrême qui met en place une politique d’extermination systématique et organisée de l’ennemi.\n",
      "Pourquoi peut-on qualifier la Seconde Guerre mondiale de guerre d’anéantissement ? Pour y répondre, nous étudierons trois grandes parties : la première partie évaluera les dimensions planétaires du conflit et proposera une brève chronologie. L’exemple de la bataille de Stalingrad, la deuxième partie, permettra d’étudier de quelles manières l’intégralité des forces matérielles et morales des peuples ont été utilisées. Le thème du génocide des Juifs et des Tsiganes formera une troisième partie. Nous soulignerons ici que l’objectif des nazis était bien une destruction totale et systématique de l’ennemi.\n",
      "Un affrontement aux dimensions planétaires\n",
      "1939-1942 : les victoires de l’Axe\n",
      "Quelques petites définitions sont nécessaires avant de commencer cette partie. Quand on parle de l’Axe, c’est pour faire référence à l’Allemagne nazie, dirigée par Adolf Hitler, l’Italie fasciste, dirigée par Benito Mussolini, et le Japon. Les pays qui s’opposent aux forces de l’Axe se regroupent sous le nom d’Alliés, c’est-à-dire principalement le Royaume-Uni, la France, ainsi que les États-Unis et l’URSS à partir de 1941.\n",
      "\n",
      "Carte des avancées allemandes lors de la Blitzkrieg \n",
      "\n",
      "La Seconde Guerre mondiale débute le 1er septembre 1939 après l’invasion de la Pologne par l’Allemagne nazie.\n",
      "\n",
      "\n",
      "Avec la technique du Blitzkrieg, Hitler parvient à occuper une grande partie de l’Europe : le Danemark, la Norvège, puis la Belgique, les Pays-Bas, le Luxembourg et la France sont occupés. Seul le Royaume-Uni lui résiste grâce au soutien matériel des États-Unis. Hitler lui impose alors un blocus.\n",
      "\n",
      "\n",
      "Définition\n",
      "\n",
      "Blitzkrieg :\n",
      "C’est la « guerre éclair » : des attaques très rapides de l’armée d’Hitler, qui utilise en même temps les chars blindés et les avions. \n",
      "En Asie, le Japon (allié des Nazis), a conquis d’immenses territoires en Chine et dans l’Océan Pacifique. Il faut savoir que les colonies européennes participent au conflit, ce qui accentue la dimension mondiale du conflit.\n",
      "En 1941, deux nouveaux pays entrent en guerre : l’URSS et les États-Unis. L’URSS est attaquée le 22 juin alors que Staline et Hitler avaient signé un pacte de non-agression en 1939. C’est ce qu’on appelle « l’opération Barbarossa ». Les États-Unis sont attaqués par le Japon à Pearl Harbor. Ils entrent en guerre le 7 décembre.\n",
      "\n",
      "Les rapports de force vont alors être modifiés par l’entrée en guerre de ces deux superpuissances et l’armée d’Hitler ne pourra plus progresser.\n",
      "\n",
      "\n",
      "Le tournant de 1942\n",
      "La bataille de Stalingrad est le symbole du coup d’arrêt porté aux victoires allemandes. Il faut également noter que deux autres victoires des Alliés permettent de mettre un frein aux conquêtes nazies durant l’année 1942 : dans le Pacifique, avec les victoires américaines de Midway et Guadalcanal (cette dernière se termine en 1943) contre les Japonais, et en Afrique du Nord, à El Alamein.\n",
      "La victoire des Alliés \n",
      "\n",
      "De 1943 à 1945, l’Axe recule sur tous les fronts. Le débarquement en Sicile en 1943 oblige l’Italie à capituler.\n",
      "\n",
      "\n",
      "Le débarquement des troupes alliées en Normandie le 6 juin 1944 puis en Provence en août 1944 permet d’encercler l’armée nazie. Bloquée à l’Est par l’avancée de l’Armée rouge (c’est ainsi qu’on appelait l’armée communiste) et à l’Ouest par les Alliés, l’armée allemande est encerclée.\n",
      "\n",
      "\n",
      "À retenir\n",
      "\n",
      "Les troupes soviétiques et américaines pénètrent dans Berlin en 1945.\n",
      "Le 30 avril, Hitler se suicide et l’Allemagne capitule le 8 mai 1945.\n",
      "Quant au Japon, il résiste jusqu’en août 1945, date à laquelle les États-Unis lancent les deux bombes atomiques sur Hiroshima et Nagasaki. \n",
      "\n",
      "Le Japon capitule le 2 septembre 1945.\n",
      "\n",
      "\n",
      "Une guerre aux enjeux idéologiques et nationaux\n",
      "\n",
      "La bataille de Stalingrad, en 1942, permet d’illustrer l’idée de mobilisation totale durant la Seconde Guerre mondiale.\n",
      "\n",
      "\n",
      "Ce sont 1,5 millions de soldats allemands et soviétiques qui vont s’y affronter. La bataille exige la mobilisation de toutes les forces humaines, militaires et économiques disponibles, avec un intense effort de propagande. La bataille n’est pas seulement territoriale, elle est avant tout idéologique. Chaque camp affronte une conception différente de la civilisation.\n",
      "Phases et bilan de la bataille\n",
      "La bataille connait deux grandes phases :\n",
      "\n",
      "de août à novembre 1942 : la ville de Stalingrad est assiégée par les Allemands, qui parviennent ensuite à y pénétrer ;\n",
      "\n",
      "de novembre 1942 à février 1943 : l’armée soviétique parvient à reprendre le contrôle et à encercler l’armée allemande. Cette reprise en main soviétique est due en partie à la démoralisation des troupes allemandes qui furent très mal approvisionnées.\n",
      "\n",
      "\n",
      "Le bilan de la bataille est impressionnant : l’URSS, bien que victorieuse, a perdu presque 1,2 millions d’hommes, tandis que l’Allemagne, vaincue, 760 000 hommes. Cela qui fait de la bataille de Stalingrad l’unes plus meurtrières de toute la guerre, voire de toute l’Histoire. \n",
      "\n",
      "Cette grande victoire russe marque le début du repli nazi.\n",
      "\n",
      "\n",
      "La bataille de Stalingrad, symbole de la Seconde Guerre mondiale\n",
      "L’exemple de Stalingrad permet de saisir les enjeux de la Seconde Guerre mondiale.\n",
      "\n",
      "C’est une guerre idéologique. Il ne s’agit pas seulement de gagner des terres mais surtout d’imposer une vision du monde (le nazisme, le communisme ou la démocratie libérale).\n",
      "\n",
      "C’est une guerre qui mobilise toutes les ressources possibles. Peu importe les moyens, c’est la victoire qui compte, coûte que coûte.\n",
      "\n",
      "Les avancées scientifiques, mises au service de cet effort de guerre totale, sont majeures : l’Allemagne va mettre au point les missiles tandis que les Alliés vont créer et développer les ordinateurs, des moyens de détection perfectionnés comme le radar et surtout la bombe atomique.\n",
      "\n",
      "\n",
      "L’extermination des Juifs et des Tsiganes\n",
      "L’exclusion  des Juifs\n",
      "En 1933, les nazis avaient mis en place en Allemagne une politique antisémite, c’est-à-dire d’identification et d’exclusion des Juifs, privés alors de leurs principaux droits. En 1940, cette politique est appliquée sur les territoires conquis par les Nazis. Peu à peu, ce mouvement va s’intensifier, et les Juifs vont être victimes de rafles (arrestations en masse) puis enfermés dans des camps de transit ou des ghettos (c’est-à-dire des quartiers spécifiquement réservés aux Juifs, entourés de fils barbelés et de murs). Le ghetto de Varsovie comptait par exemple 550 000 Juifs.\n",
      "Quant aux Tsiganes, ils sont enfermés dans des camps de concentration dès 1933 (attention à ne pas les confondre avec des camps d’extermination puisque dans un premier temps, il s’agit de les exclure de la société en les enfermant dans des camps de travail et non pas de les exterminer).\n",
      "Les Einsatzgruppen et la conférence de Wannsee\n",
      "\n",
      "C’est à partir de la tentative d’invasion de l’URSS par les nazis en 1941 que le processus d’extermination des Juifs et des Tsiganes débute.\n",
      "\n",
      "\n",
      "Ce sont les Einsatzgruppen, définis comme des unités mobiles d’extermination qui suivaient l’avancée de l’armée allemande qui furent chargés d’assassiner systématiquement les ennemis politiques et raciaux des Nazis (Juifs, Tsiganes ou communistes). On estime que 750 000 personnes ont été tuées par ces commandos nazis.\n",
      "\n",
      "\n",
      "À retenir\n",
      "\n",
      "Le 20 janvier 1942, une étape est franchie dans le processus d’extermination des Juifs et des Tsiganes, avec la Conférence de Wannsee. Hitler décide durant cette conférence que tous les Juifs d’Europe (soit 11 millions de personnes) devront être déportés et éliminés. \n",
      "C’est ce qu’on appelle « la Solution finale ».\n",
      "Les Juifs, ainsi que les Tsiganes, enfermés dans des ghettos ou dans des camps de transit, sont alors déportés par l’intermédiaire de wagons à bestiaux principalement vers des camps d’extermination. Les opposants politiques, les homosexuels, les Slaves ou encore les chrétiens étaient davantage dirigés vers les camps de concentration. Certains camps, comme à Auschwitz, furent à la fois camps de concentration et camp d’extermination.\n",
      "\n",
      "Ce sont 240 000 Tsiganes et 5 à 6 millions de Juifs qui vont alors trouver la mort dans ces camps. Le génocide juif est appelé la Shoah, ce qui signifie « catastrophe » ou « anéantissement » en hébreu.\n",
      "\n",
      "\n",
      "Conclusion :\n",
      "La Seconde Guerre mondiale est bien une guerre d’anéantissement, qui vise la destruction totale de l’ennemi, par tous les moyens possibles. L’affrontement est planétaire et mobilise toutes les forces matérielles et morales des peuples en guerre.\n",
      "La bataille de Stalingrad permet de comprendre comment la mise en place d’une économie de guerre s’associe à une propagande afin de détruire l’ennemi sur le plan territorial mais aussi idéologique.\n",
      "Au total, la guerre a fait entre 50 et 60 millions de morts, en majorité des civils. L’Europe est ruinée et la découverte des camps d’extermination à la fin de la guerre traumatise les populations. La notion de « crime contre l’humanité », c’est-à-dire de condamnation de tout acte violent et ignoble contre une population pour des motifs politiques, religieux ou raciaux est alors créée.\n"
     ]
    }
   ],
   "source": [
    "print(content_schoolmovze)"
   ]
  },
  {
   "cell_type": "code",
   "execution_count": 42,
   "metadata": {},
   "outputs": [],
   "source": [
    "url_prog_school= \"https://www.schoolmouv.fr/3eme/histoire\""
   ]
  },
  {
   "cell_type": "code",
   "execution_count": 43,
   "metadata": {},
   "outputs": [],
   "source": [
    "soup = get_soup(url_prog_school)"
   ]
  },
  {
   "cell_type": "code",
   "execution_count": 44,
   "metadata": {},
   "outputs": [],
   "source": [
    "\n",
    "def get_courses_from_html(url: str) -> dict:\n",
    "    soup = get_soup(url)\n",
    "    container = soup.find(\"div\", class_=\"program-template_program__content__w3oIs\")\n",
    "    chapters = {}\n",
    "    if not container:\n",
    "        return chapters\n",
    "\n",
    "    chapter_divs = container.find_all(\"div\", class_=\"course-list_chapter__13m89\")\n",
    "    for chapter in chapter_divs:\n",
    "        # Récupérer le titre du chapitre depuis le h2\n",
    "        header = chapter.find(\"div\", class_=\"course-list_chapter__title--without-cups__dehJf\")\n",
    "        h2 = header.find(\"h2\") if header else None\n",
    "        chapter_title = h2.get_text(strip=True) if h2 else \"Sans titre\"\n",
    "\n",
    "        courses_list = []\n",
    "        ul = chapter.find(\"ul\", class_=\"course-list_chapter__course-list__x_5Q6\")\n",
    "        if ul:\n",
    "            for li in ul.find_all(\"li\", class_=\"course-list_chapter__course-list--item-without-cups__CJUPl\"):\n",
    "                a = li.find(\"a\", class_=\"course-title-card-module_course-title-card__YrMOq\")\n",
    "                if a:\n",
    "                    link = a.get(\"href\")\n",
    "                    p = a.find(\"p\")\n",
    "                    course_title = p.get_text(strip=True) if p else \"\"\n",
    "                    courses_list.append({\n",
    "                        \"link\": link,\n",
    "                        \"title\": course_title\n",
    "                    })\n",
    "        chapters[chapter_title] = courses_list\n",
    "\n",
    "    return chapters"
   ]
  },
  {
   "cell_type": "code",
   "execution_count": 45,
   "metadata": {},
   "outputs": [],
   "source": [
    "chapters = get_courses_from_html(url_prog_school)"
   ]
  },
  {
   "cell_type": "code",
   "execution_count": 47,
   "metadata": {},
   "outputs": [
    {
     "data": {
      "text/plain": [
       "{\"L'Europe, un théâtre majeur des guerres totales (1914-1945)\": [{'link': 'https://www.schoolmouv.fr/cours/la-premiere-guerre-mondiale-vers-une-guerre-totale/fiche-de-cours',\n",
       "   'title': 'La Première Guerre mondiale : vers une guerre totale'},\n",
       "  {'link': 'https://www.schoolmouv.fr/cours/les-regimes-totalitaires-dans-les-annees-1930/fiche-de-cours',\n",
       "   'title': 'Les régimes totalitaires dans les années 1930'},\n",
       "  {'link': 'https://www.schoolmouv.fr/cours/la-france-durant-lentre-deux-guerres/fiche-de-cours',\n",
       "   'title': \"La France durant l'entre-deux guerres\"},\n",
       "  {'link': 'https://www.schoolmouv.fr/cours/la-seconde-guerre-mondiale-une-guerre-d-aneantissement/fiche-de-cours',\n",
       "   'title': 'La Seconde Guerre mondiale : une guerre d’anéantissement'},\n",
       "  {'link': 'https://www.schoolmouv.fr/cours/la-france-de-vichy-1940-1944/fiche-de-cours',\n",
       "   'title': 'La France de Vichy (1940-1944)'}],\n",
       " 'Le monde depuis 1945': [{'link': 'https://www.schoolmouv.fr/cours/la-decolonisation/fiche-de-cours',\n",
       "   'title': 'La décolonisation'},\n",
       "  {'link': 'https://www.schoolmouv.fr/cours/le-monde-durant-la-guerre-froide-1947-1962/fiche-de-cours',\n",
       "   'title': 'Le monde durant la guerre froide (1947-1962)'},\n",
       "  {'link': 'https://www.schoolmouv.fr/cours/le-monde-durant-la-guerre-froide-1963-1991/fiche-de-cours',\n",
       "   'title': 'Le monde durant la guerre froide (1963-1991)'},\n",
       "  {'link': 'https://www.schoolmouv.fr/cours/la-construction-europeenne/fiche-de-cours',\n",
       "   'title': 'La construction européenne'},\n",
       "  {'link': 'https://www.schoolmouv.fr/cours/le-nouvel-ordre-mondial/fiche-de-cours',\n",
       "   'title': 'La géopolitique du monde actuel'}],\n",
       " 'Françaises et Français dans une République repensée': [{'link': 'https://www.schoolmouv.fr/cours/1944-1947-refonder-la-republique-redefinir-la-democratie/fiche-de-cours',\n",
       "   'title': '1944-1947 : refonder la République, redéfinir la démocratie'},\n",
       "  {'link': 'https://www.schoolmouv.fr/cours/la-veme-republique-a-lepreuve-du-temps-1958-2012/fiche-de-cours',\n",
       "   'title': \"La Ve République à l'épreuve de la durée (1958-2012)\"},\n",
       "  {'link': 'https://www.schoolmouv.fr/cours/les-annees-de-gaulle-1958-1969/fiche-de-cours',\n",
       "   'title': 'Les années de Gaulle (1958-1969)'},\n",
       "  {'link': 'https://www.schoolmouv.fr/cours/les-trente-glorieuses/fiche-de-cours',\n",
       "   'title': 'Les Trente Glorieuses'}]}"
      ]
     },
     "execution_count": 47,
     "metadata": {},
     "output_type": "execute_result"
    }
   ],
   "source": [
    "chapters"
   ]
  },
  {
   "cell_type": "code",
   "execution_count": 46,
   "metadata": {},
   "outputs": [
    {
     "name": "stdout",
     "output_type": "stream",
     "text": [
      "dict_keys([\"L'Europe, un théâtre majeur des guerres totales (1914-1945)\", 'Le monde depuis 1945', 'Françaises et Français dans une République repensée'])\n"
     ]
    },
    {
     "data": {
      "text/plain": [
       "[{'link': 'https://www.schoolmouv.fr/cours/la-premiere-guerre-mondiale-vers-une-guerre-totale/fiche-de-cours',\n",
       "  'title': 'La Première Guerre mondiale : vers une guerre totale'},\n",
       " {'link': 'https://www.schoolmouv.fr/cours/les-regimes-totalitaires-dans-les-annees-1930/fiche-de-cours',\n",
       "  'title': 'Les régimes totalitaires dans les années 1930'},\n",
       " {'link': 'https://www.schoolmouv.fr/cours/la-france-durant-lentre-deux-guerres/fiche-de-cours',\n",
       "  'title': \"La France durant l'entre-deux guerres\"},\n",
       " {'link': 'https://www.schoolmouv.fr/cours/la-seconde-guerre-mondiale-une-guerre-d-aneantissement/fiche-de-cours',\n",
       "  'title': 'La Seconde Guerre mondiale : une guerre d’anéantissement'},\n",
       " {'link': 'https://www.schoolmouv.fr/cours/la-france-de-vichy-1940-1944/fiche-de-cours',\n",
       "  'title': 'La France de Vichy (1940-1944)'}]"
      ]
     },
     "execution_count": 46,
     "metadata": {},
     "output_type": "execute_result"
    }
   ],
   "source": [
    "# Print the keys of the chapters dictionary\n",
    "print(chapters.keys())\n",
    "\n",
    "# Access the first key to get the corresponding value\n",
    "first_key = list(chapters.keys())[0]\n",
    "chapters[first_key]"
   ]
  },
  {
   "cell_type": "code",
   "execution_count": null,
   "metadata": {},
   "outputs": [],
   "source": []
  },
  {
   "cell_type": "code",
   "execution_count": null,
   "metadata": {},
   "outputs": [],
   "source": []
  },
  {
   "cell_type": "code",
   "execution_count": null,
   "metadata": {},
   "outputs": [],
   "source": []
  },
  {
   "cell_type": "code",
   "execution_count": null,
   "metadata": {},
   "outputs": [],
   "source": []
  },
  {
   "cell_type": "code",
   "execution_count": null,
   "metadata": {},
   "outputs": [],
   "source": []
  },
  {
   "cell_type": "code",
   "execution_count": null,
   "metadata": {},
   "outputs": [],
   "source": []
  },
  {
   "cell_type": "code",
   "execution_count": null,
   "metadata": {},
   "outputs": [],
   "source": []
  },
  {
   "cell_type": "code",
   "execution_count": 119,
   "metadata": {},
   "outputs": [],
   "source": [
    "#sve the page\n",
    "with open(\"page.html\", \"w\") as file:\n",
    "    file.write(soup.prettify())"
   ]
  },
  {
   "cell_type": "code",
   "execution_count": null,
   "metadata": {},
   "outputs": [],
   "source": []
  }
 ],
 "metadata": {
  "kernelspec": {
   "display_name": "wikillmbase",
   "language": "python",
   "name": "python3"
  },
  "language_info": {
   "codemirror_mode": {
    "name": "ipython",
    "version": 3
   },
   "file_extension": ".py",
   "mimetype": "text/x-python",
   "name": "python",
   "nbconvert_exporter": "python",
   "pygments_lexer": "ipython3",
   "version": "3.10.16"
  }
 },
 "nbformat": 4,
 "nbformat_minor": 2
}
